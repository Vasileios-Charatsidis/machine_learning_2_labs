{
 "cells": [
  {
   "cell_type": "markdown",
   "metadata": {},
   "source": [
    "# Lab 2: Inference in Graphical Models\n",
    "\n",
    "### Machine Learning 2 (2016/2017)\n",
    "\n",
    "* The lab exercises should be made in groups of two people or individually.\n",
    "* The hand-in deadline is Wednesday, May 10, 23:59.\n",
    "* Assignment should be sent to p.j.j.p.versteeg@uva.nl. The subject line of your email should be \"[ML2_2017] lab#_lastname1\\_lastname2\". \n",
    "* Put your and your teammates' names in the body of the email\n",
    "* Attach the .IPYNB (IPython Notebook) file containing your code and answers. Naming of the file follows the same rule as the subject line. For example, if the subject line is \"[ML2_2017] lab02\\_Bongers\\_Blom\", the attached file should be \"lab02\\_Bongers\\_Blom.ipynb\". Only use underscores (\"\\_\") to connect names, otherwise the files cannot be parsed.\n",
    "\n",
    "Notes on implementation:\n",
    "\n",
    "* You should write your code and answers in an IPython Notebook: http://ipython.org/notebook.html. If you have problems, please ask or e-mail Philip.\n",
    "* For some of the questions, you can write the code directly in the first code cell that provides the class structure.\n",
    "* Among the first lines of your notebook should be \"%pylab inline\". This imports all required modules, and your plots will appear inline.\n",
    "* NOTE: test your code and make sure we can run your notebook / scripts!"
   ]
  },
  {
   "cell_type": "markdown",
   "metadata": {},
   "source": [
    "### Introduction\n",
    "In this assignment, we will implement the sum-product and max-sum algorithms for factor graphs over discrete variables. The relevant theory is covered in chapter 8 of Bishop's PRML book, in particular section 8.4. Read this chapter carefuly before continuing!\n",
    "\n",
    "We will first implement sum-product and max-sum and apply it to a simple poly-tree structured factor graph for medical diagnosis. Then, we will implement a loopy version of the algorithms and use it for image denoising.\n",
    "\n",
    "For this assignment we recommended you stick to numpy ndarrays (constructed with np.array, np.zeros, np.ones, etc.) as opposed to numpy matrices, because arrays can store n-dimensional arrays whereas matrices only work for 2d arrays. We need n-dimensional arrays in order to store conditional distributions with more than 1 conditioning variable. If you want to perform matrix multiplication on arrays, use the np.dot function; all infix operators including *, +, -, work element-wise on arrays."
   ]
  },
  {
   "cell_type": "markdown",
   "metadata": {},
   "source": [
    "## Part 1: The sum-product algorithm\n",
    "\n",
    "We will implement a datastructure to store a factor graph and to facilitate computations on this graph. Recall that a factor graph consists of two types of nodes, factors and variables. Below you will find some classes for these node types to get you started. Carefully inspect this code and make sure you understand what it does; you will have to build on it later."
   ]
  },
  {
   "cell_type": "code",
   "execution_count": 9,
   "metadata": {
    "collapsed": false
   },
   "outputs": [
    {
     "name": "stdout",
     "output_type": "stream",
     "text": [
      "Populating the interactive namespace from numpy and matplotlib\n"
     ]
    },
    {
     "name": "stderr",
     "output_type": "stream",
     "text": [
      "C:\\Users\\Dana\\Anaconda3\\envs\\py27\\lib\\site-packages\\IPython\\core\\magics\\pylab.py:161: UserWarning: pylab import has clobbered these variables: ['f']\n",
      "`%matplotlib` prevents importing * from pylab and numpy\n",
      "  \"\\n`%matplotlib` prevents importing * from pylab and numpy\"\n"
     ]
    }
   ],
   "source": [
    "%pylab inline\n",
    "import itertools\n",
    "\n",
    "class Node(object):\n",
    "    \"\"\"\n",
    "    Base-class for Nodes in a factor graph. Only instantiate sub-classes of Node.\n",
    "    \"\"\"\n",
    "    def __init__(self, name):\n",
    "        # A name for this Node, for printing purposes\n",
    "        self.name = name\n",
    "        \n",
    "        # Neighbours in the graph, identified with their index in this list.\n",
    "        # i.e. self.neighbours contains neighbour 0 through len(self.neighbours) - 1.\n",
    "        self.neighbours = []\n",
    "        \n",
    "        # Reset the node-state (not the graph topology)\n",
    "        self.reset()\n",
    "        \n",
    "    def reset(self):\n",
    "        # Incoming messages; a dictionary mapping neighbours to messages.\n",
    "        # That is, it maps  Node -> np.ndarray.\n",
    "        self.in_msgs = {}\n",
    "        \n",
    "        # A set of neighbours for which this node has pending messages.\n",
    "        # We use a python set object so we don't have to worry about duplicates.\n",
    "        self.pending = set([])\n",
    "\n",
    "    def add_neighbour(self, nb):\n",
    "        self.neighbours.append(nb)\n",
    "\n",
    "    def send_sp_msg(self, other):\n",
    "        # To be implemented in subclass.\n",
    "        raise Exception('Method send_sp_msg not implemented in base-class Node')\n",
    "   \n",
    "    def send_ms_msg(self, other):\n",
    "        # To be implemented in subclass.\n",
    "        raise Exception('Method send_ms_msg not implemented in base-class Node')\n",
    "    \n",
    "    def receive_msg(self, other, msg):\n",
    "        # Store the incomming message, replacing previous messages from the same node\n",
    "        self.in_msgs[other] = msg\n",
    "\n",
    "        # add pending messages if all messages have been received\n",
    "        for target_node in self.neighbours: \n",
    "            if (set(self.neighbours) - {target_node}) <= self.in_msgs.keys(): # if all messages necessary for target has been received\n",
    "                self.pending |= target_node\n",
    "    \n",
    "    def __str__(self):\n",
    "        # This is printed when using 'print node_instance'\n",
    "        return self.name\n",
    "\n",
    "\n",
    "class Variable(Node):\n",
    "    def __init__(self, name, num_states):\n",
    "        \"\"\"\n",
    "        Variable node constructor.\n",
    "        Args:\n",
    "            name: a name string for this node. Used for printing. \n",
    "            num_states: the number of states this variable can take.\n",
    "            Allowable states run from 0 through (num_states - 1).\n",
    "            For example, for a binary variable num_states=2,\n",
    "            and the allowable states are 0, 1.\n",
    "        \"\"\"\n",
    "        self.num_states = num_states\n",
    "        \n",
    "        # Call the base-class constructor\n",
    "        super(Variable, self).__init__(name)\n",
    "    \n",
    "    def set_observed(self, observed_state):\n",
    "        \"\"\"\n",
    "        Set this variable to an observed state.\n",
    "        Args:\n",
    "            observed_state: an integer value in [0, self.num_states - 1].\n",
    "        \"\"\"\n",
    "        # Observed state is represented as a 1-of-N variable\n",
    "        # Could be 0.0 for sum-product, but log(0.0) = -inf so a tiny value is preferable for max-sum\n",
    "        self.observed_state[:] = 0.000001\n",
    "        self.observed_state[observed_state] = 1.0\n",
    "        \n",
    "    def set_latent(self):\n",
    "        \"\"\"\n",
    "        Erase an observed state for this variable and consider it latent again.\n",
    "        \"\"\"\n",
    "        # No state is preferred, so set all entries of observed_state to 1.0\n",
    "        # Using this representation we need not differentiate between observed and latent\n",
    "        # variables when sending messages.\n",
    "        self.observed_state[:] = 1.0\n",
    "        \n",
    "    def reset(self):\n",
    "        super(Variable, self).reset()\n",
    "        self.observed_state = np.ones(self.num_states)\n",
    "        \n",
    "    def marginal(self, Z=None):\n",
    "        \"\"\"\n",
    "        Compute the marginal distribution of this Variable.\n",
    "        It is assumed that message passing has completed when this function is called.\n",
    "        Args:\n",
    "            Z: an optional normalization constant can be passed in. If None is passed, Z is computed.\n",
    "        Returns: marginal, Z. The first is a numpy array containing the normalized marginal distribution.\n",
    "         Z is either equal to the input Z, or computed in this function (if Z=None was passed).\n",
    "        \"\"\"\n",
    "        # compute marginal\n",
    "        for factor in self.neighbours: # make sure all necessary messages are in inbox\n",
    "            assert factor in self.in_msgs\n",
    "        \n",
    "        marginal = np.prod(self.in_msgs.values(),axis=0) * self.observed_state\n",
    "        \n",
    "        if Z is None:\n",
    "            Z = marginal.sum()\n",
    "        \n",
    "        return marginal/Z, Z\n",
    "    \n",
    "    def marginal_maxsum(self, Z=None):\n",
    "        \"\"\"\n",
    "        Compute the marginal distribution of this Variable.\n",
    "        It is assumed that message passing has completed when this function is called.\n",
    "        Args:\n",
    "            Z: an optional normalization constant can be passed in. If None is passed, Z is computed.\n",
    "        Returns: marginal, Z. The first is a numpy array containing the normalized marginal distribution.\n",
    "         Z is either equal to the input Z, or computed in this function (if Z=None was passed).\n",
    "        \"\"\"\n",
    "        # compute marginal\n",
    "        for factor in self.neighbours: # make sure all necessary messages are in inbox\n",
    "            assert factor in self.in_msgs\n",
    "        \n",
    "        marginal = np.sum(self.in_msgs.values(),axis=0) + np.log(self.observed_state)\n",
    "        \n",
    "        if Z is None:\n",
    "            Z = marginal.sum()\n",
    "        \n",
    "        return marginal/Z, Z\n",
    "    \n",
    "    def send_sp_msg(self, other):\n",
    "        # implement Variable -> Factor message for sum-product\n",
    "        \n",
    "        for factor in self.neighbours: # make sure all necessary messages are in inbox\n",
    "            if factor != other:\n",
    "                assert factor in self.in_msgs\n",
    "        \n",
    "        # Remove other from pending messages\n",
    "        self.pending -= {other}\n",
    "        \n",
    "        other_neighbours = [var for var in self.neighbours if var != other ]\n",
    "        \n",
    "        if len(other_neighbours) == 0:\n",
    "            message = np.ones(self.num_states)\n",
    "        else:\n",
    "            message = np.prod([self.in_msgs[factor] for factor in  other_neighbours], axis = 0)\n",
    "                \n",
    "        message = message * self.observed_state\n",
    "        other.receive_msg(self, message)\n",
    "        return message\n",
    "   \n",
    "    def send_ms_msg(self, other):\n",
    "        # implement Variable -> Factor message for max-sum\n",
    "        for factor in self.neighbours: # make sure all necessary messages are in inbox\n",
    "            if factor != other:\n",
    "                assert factor in self.in_msgs\n",
    "        \n",
    "        other_neighbours = [var for var in self.neighbours if var != other ]\n",
    "        \n",
    "        if len(other_neighbours) == 0:\n",
    "            message = np.zeros(self.num_states)\n",
    "        else:\n",
    "            message = np.sum([self.in_msgs[factor] for factor in  other_neighbours], axis = 0)\n",
    "            \n",
    "        # Compute message\n",
    "        message = message + np.log(self.observed_state)\n",
    "        \n",
    "        # Remove other from pending messages\n",
    "        self.pending -= {other}\n",
    "                                   \n",
    "        other.receive_msg(self, message)\n",
    "        return message\n",
    "    \n",
    "    def __str__(self):\n",
    "        return \"var(%s)\" % (self.name)\n",
    "\n",
    "    def __repr__(self):\n",
    "        return self.__str__()\n",
    "\n",
    "class Factor(Node):\n",
    "    def __init__(self, name, f, neighbours):\n",
    "        \"\"\"\n",
    "        Factor node constructor.\n",
    "        Args:\n",
    "            name: a name string for this node. Used for printing\n",
    "            f: a numpy.ndarray with N axes, where N is the number of neighbours.\n",
    "               That is, the axes of f correspond to variables, and the index along that axes corresponds to a value of that variable.\n",
    "               Each axis of the array should have as many entries as the corresponding neighbour variable has states.\n",
    "            neighbours: a list of neighbouring Variables. Bi-directional connections are created.\n",
    "        \"\"\"\n",
    "        # Call the base-class constructor\n",
    "        super(Factor, self).__init__(name)\n",
    "\n",
    "        assert len(neighbours) == f.ndim, 'Factor function f should accept as many arguments as this Factor node has neighbours'\n",
    "        \n",
    "        for nb_ind in range(len(neighbours)):\n",
    "            nb = neighbours[nb_ind]\n",
    "            assert f.shape[nb_ind] == nb.num_states, 'The range of the factor function f is invalid for input %i %s' % (nb_ind, nb.name)\n",
    "            self.add_neighbour(nb)\n",
    "            nb.add_neighbour(self)\n",
    "\n",
    "        self.f = f\n",
    "        \n",
    "    def send_sp_msg(self, other):\n",
    "        # Factor -> Variable message for sum-product\n",
    "        \n",
    "        for var in self.neighbours: # make sure all necessary messages are in inbox\n",
    "            if var != other:\n",
    "                assert var in self.in_msgs\n",
    "                \n",
    "      \n",
    "        # Indices of neigbour vars except other\n",
    "        f_ix = range(len(self.neighbours))\n",
    "        f_ix.remove(self.neighbours.index(other))\n",
    "        \n",
    "        # Indices for the corresponding messages\n",
    "        m_ix = range(len(f_ix))\n",
    "\n",
    "        # Compute product of other messages\n",
    "        other_neighbours = [var for var in self.neighbours if var != other]\n",
    "        messages = [self.in_msgs[var] for var in other_neighbours]\n",
    "        T = reduce(np.outer, messages) if len(messages) > 0 else 1 #np.array([[1]])\n",
    "        \n",
    "        # Compute messages\n",
    "        mu_f_x = np.tensordot(self.f, T ,axes=(f_ix,m_ix))\n",
    "        \n",
    "        # Remove other from pending\n",
    "        self.pending -= {other}\n",
    "        \n",
    "        # Send message\n",
    "        other.receive_msg(self, mu_f_x)\n",
    "        return mu_f_x\n",
    "   \n",
    "    def send_ms_msg(self, other):\n",
    "        # implement Factor -> Variable message for max-sum \n",
    "        \n",
    "        for var in self.neighbours: # make sure all necessary messages are in inbox\n",
    "            if var != other:\n",
    "                assert var in self.in_msgs\n",
    "\n",
    "        # Get received messages\n",
    "        other_neighbours = [var for var in self.neighbours if var != other]\n",
    "        messages = [self.in_msgs[var] for var in other_neighbours]\n",
    "        \n",
    "        # indices of neighbors except other\n",
    "        f_ix = range(len(self.neighbours))\n",
    "        f_ix.remove(self.neighbours.index(other))\n",
    "        \n",
    "        # Expand dimensions to allow \n",
    "        T = np.expand_dims(np.add.reduce(np.ix_(*messages)), self.neighbours.index(other)) #if len(messages) > 0 else 0 \n",
    "        \n",
    "        # find maximum vector along axes\n",
    "        mu_f_x = np.apply_over_axes(np.amax, np.log(self.f) + T, f_ix).squeeze()\n",
    "        \n",
    "        # Remove other from pending\n",
    "        self.pending -= {other}\n",
    "        \n",
    "        # Send message\n",
    "        other.receive_msg(self, mu_f_x)\n",
    "        return mu_f_x\n",
    "    \n",
    "    def __str__(self):\n",
    "        return \"%s\" % (self.name)\n",
    "\n",
    "    def __repr__(self):\n",
    "        return self.__str__()"
   ]
  },
  {
   "cell_type": "markdown",
   "metadata": {},
   "source": [
    "### 1.1 Instantiate network (10 points)\n",
    "Convert the directed graphical model (\"Bayesian Network\") shown below to a factor graph. Instantiate this graph by creating Variable and Factor instances and linking them according to the graph structure. \n",
    "To instantiate the factor graph, first create the Variable nodes and then create Factor nodes, passing a list of neighbour Variables to each Factor.\n",
    "Use the following prior and conditional probabilities.\n",
    "\n",
    "$$\n",
    "p(\\verb+Influenza+) = 0.05 \\\\\\\\\n",
    "p(\\verb+Smokes+) = 0.2 \\\\\\\\\n",
    "$$\n",
    "\n",
    "$$\n",
    "p(\\verb+SoreThroat+ = 1 | \\verb+Influenza+ = 1) = 0.3 \\\\\\\\\n",
    "p(\\verb+SoreThroat+ = 1 | \\verb+Influenza+ = 0) = 0.001 \\\\\\\\\n",
    "p(\\verb+Fever+ = 1| \\verb+Influenza+ = 1) = 0.9 \\\\\\\\\n",
    "p(\\verb+Fever+ = 1| \\verb+Influenza+ = 0) = 0.05 \\\\\\\\\n",
    "p(\\verb+Bronchitis+ = 1 | \\verb+Influenza+ = 1, \\verb+Smokes+ = 1) = 0.99 \\\\\\\\\n",
    "p(\\verb+Bronchitis+ = 1 | \\verb+Influenza+ = 1, \\verb+Smokes+ = 0) = 0.9 \\\\\\\\\n",
    "p(\\verb+Bronchitis+ = 1 | \\verb+Influenza+ = 0, \\verb+Smokes+ = 1) = 0.7 \\\\\\\\\n",
    "p(\\verb+Bronchitis+ = 1 | \\verb+Influenza+ = 0, \\verb+Smokes+ = 0) = 0.0001 \\\\\\\\\n",
    "p(\\verb+Coughing+ = 1| \\verb+Bronchitis+ = 1) = 0.8 \\\\\\\\\n",
    "p(\\verb+Coughing+ = 1| \\verb+Bronchitis+ = 0) = 0.07 \\\\\\\\\n",
    "p(\\verb+Wheezing+ = 1| \\verb+Bronchitis+ = 1) = 0.6 \\\\\\\\\n",
    "p(\\verb+Wheezing+ = 1| \\verb+Bronchitis+ = 0) = 0.001 \\\\\\\\\n",
    "$$"
   ]
  },
  {
   "cell_type": "code",
   "execution_count": 10,
   "metadata": {
    "collapsed": false
   },
   "outputs": [
    {
     "data": {
      "image/png": "[encoded data removed]",
      "text/plain": [
       "<IPython.core.display.Image object>"
      ]
     },
     "execution_count": 10,
     "metadata": {},
     "output_type": "execute_result"
    }
   ],
   "source": [
    "from IPython.core.display import Image \n",
    "Image(filename='bn.png') "
   ]
  },
  {
   "cell_type": "code",
   "execution_count": 11,
   "metadata": {
    "collapsed": false
   },
   "outputs": [],
   "source": [
    "# Initialization\n",
    "names = ['influenza', 'smokes', 'sorethroat', 'fever' , 'bronchitis', 'coughing', 'wheezing']\n",
    "num_states = 2\n",
    "num_vars = len(names)\n",
    "num_factors = 7\n",
    "\n",
    "# Factor-variable connectivity matrix\n",
    "connectivity = [\n",
    " [1,0,0,0,0,0,0], # f1(influenza)\n",
    " [0,1,0,0,0,0,0], # f2(smokes)\n",
    " [1,0,1,0,0,0,0], # f3(influenza, sorethroat)\n",
    " [1,0,0,1,0,0,0], # f4(influenze, fever)\n",
    " [1,1,0,0,1,0,0], # f5(influenza, smokes, bronchitis)\n",
    " [0,0,0,0,1,1,0], # f6(bronchitis,coughing)\n",
    " [0,0,0,0,1,0,1]] # f7(bronchitis, wheezing)\n",
    "factor_matrix = np.array(connectivity)\n",
    "\n",
    "# Variables: {id:Variable}\n",
    "dict_vars = {var_idx: Variable(name,num_states) for var_idx, name in enumerate(names)}\n",
    "\n",
    "# Factor functions\n",
    "_f1 = lambda x: 0.05 * x + 0.95 * (1 - x)\n",
    "_f2 = lambda x: 0.2 * x + 0.8 * (1 - x)\n",
    "_f3 = lambda x, y: 0.3 * x * y + 0.7 * x *(1-y) + 0.001 * (1-x) * y + 0.999 * (1-x) * (1-y)\n",
    "_f4 = lambda x, y: 0.9 * x * y + 0.1 * x *(1-y) + 0.05 * (1-x) * y + 0.95 * (1-x) * (1-y)\n",
    "_f5 = lambda x, y, z:  0.99 * x * y * z + 0.01 * x * y * (1-z) + \\\n",
    "                      0.9 * x * (1-y) * z + 0.1 * x * (1-y) * (1-z) + \\\n",
    "                      0.7 * (1-x) * y * z + 0.3 * (1-x) * y * (1-z) + \\\n",
    "                      0.0001 * (1-x) * (1-y) * z + 0.9999 * (1-x) * (1-y) * (1-z)\n",
    "_f6 = lambda x, y: 0.8 * x * y + 0.2 * x *(1-y) + 0.07 * (1-x) * y + 0.93 * (1-x) * (1-y)\n",
    "_f7 = lambda x, y: 0.6 * x * y + 0.4 * x *(1-y) + 0.001 * (1-x) * y + 0.999 * (1-x) * (1-y)\n",
    "ls_factor_fns = [_f1, _f2, _f3, _f4, _f5, _f6, _f7]\n",
    "\n",
    "# Create tensors for each factor and assigns correct probability\n",
    "def get_factor_beliefs_tensor(f, neighbours):\n",
    "    assignments = list(itertools.product(*[list(range(var.num_states)) for var in neighbours]))\n",
    "    beliefs = np.zeros(tuple(var.num_states for var in neighbours))\n",
    "    \n",
    "    for assignment in assignments: # assign values to tensors\n",
    "        beliefs[assignment] = f(*assignment)\n",
    "        \n",
    "    return beliefs    \n",
    "        \n",
    "# Create factors\n",
    "ls_factors = []\n",
    "for f_idx, row in enumerate(factor_matrix):\n",
    "    name = 'f%d' % (f_idx+1)\n",
    "    neighbours = [dict_vars[var_idx] for var_idx in np.where(row == 1)[0]]\n",
    "    f = get_factor_beliefs_tensor(ls_factor_fns[f_idx], neighbours)\n",
    "    ls_factors.append(Factor(name=name, f=f, neighbours=neighbours))\n",
    "\n",
    "f1 = ls_factors[0]\n",
    "f2 = ls_factors[1]\n",
    "f3 = ls_factors[2]\n",
    "f4 = ls_factors[3]\n",
    "f5 = ls_factors[4]\n",
    "f6 = ls_factors[5]\n",
    "f7 = ls_factors[6]\n",
    "\n",
    "I = dict_vars[0]\n",
    "SM = dict_vars[1]\n",
    "ST = dict_vars[2]\n",
    "F = dict_vars[3]\n",
    "B = dict_vars[4]\n",
    "C = dict_vars[5]\n",
    "W = dict_vars[6]"
   ]
  },
  {
   "cell_type": "markdown",
   "metadata": {},
   "source": [
    "### 1.2 Factor to variable messages (20 points)\n",
    "Write a method `send_sp_msg(self, other)` for the Factor class, that checks if all the information required to pass a message to Variable `other` is present, computes the message and sends it to `other`. \"Sending\" here simply means calling the `receive_msg` function of the receiving node (we will implement this later). The message itself should be represented as a numpy array (np.array) whose length is equal to the number of states of the variable.\n",
    "\n",
    "An elegant and efficient solution can be obtained using the n-way outer product of vectors. This product takes n vectors $\\mathbf{x}^{(1)}, \\ldots, \\mathbf{x}^{(n)}$ and computes a $n$-dimensional tensor (ndarray) whose element $i_0,i_1,...,i_n$ is given by $\\prod_j \\mathbf{x}^{(j)}_{i_j}$. In python, this is realized as `np.multiply.reduce(np.ix_(*vectors))` for a python list `vectors` of 1D numpy arrays. Try to figure out how this statement works -- it contains some useful functional programming techniques. Another function that you may find useful in computing the message is `np.tensordot`."
   ]
  },
  {
   "cell_type": "code",
   "execution_count": 12,
   "metadata": {
    "collapsed": true
   },
   "outputs": [],
   "source": [
    "# See class definition"
   ]
  },
  {
   "cell_type": "markdown",
   "metadata": {},
   "source": [
    "### 1.3 Variable to factor messages (10 points)\n",
    "\n",
    "Write a method `send_sp_message(self, other)` for the Variable class, that checks if all the information required to pass a message to Variable var is present, computes the message and sends it to factor."
   ]
  },
  {
   "cell_type": "markdown",
   "metadata": {},
   "source": [
    "### 1.4 Compute marginal (10 points)\n",
    "Later in this assignment, we will implement message passing schemes to do inference. Once the message passing has completed, we will want to compute local marginals for each variable.\n",
    "Write the method `marginal` for the Variable class, that computes a marginal distribution over that node."
   ]
  },
  {
   "cell_type": "markdown",
   "metadata": {},
   "source": [
    "### 1.5 Receiving messages (10 points)\n",
    "In order to implement the loopy and non-loopy message passing algorithms, we need some way to determine which nodes are ready to send messages to which neighbours. To do this in a way that works for both loopy and non-loopy algorithms, we make use of the concept of \"pending messages\", which is explained in Bishop (8.4.7): \n",
    "\"we will say that a (variable or factor)\n",
    "node a has a message pending on its link to a node b if node a has received any\n",
    "message on any of its other links since the last time it send (sic) a message to b. Thus,\n",
    "when a node receives a message on one of its links, this creates pending messages\n",
    "on all of its other links.\"\n",
    "\n",
    "Keep in mind that for the non-loopy algorithm, nodes may not have received any messages on some or all of their links. Therefore, before we say node a has a pending message for node b, we must check that node a has received all messages needed to compute the message that is to be sent to b.\n",
    "\n",
    "Modify the function `receive_msg`, so that it updates the self.pending variable as described above. The member self.pending is a set that is to be filled with Nodes to which self has pending messages. Modify the `send_msg` functions to remove pending messages as they are sent."
   ]
  },
  {
   "cell_type": "markdown",
   "metadata": {},
   "source": [
    "### 1.6 Inference Engine (10 points)\n",
    "Write a function `sum_product(node_list)` that runs the sum-product message passing algorithm on a tree-structured factor graph with given nodes. The input parameter `node_list` is a list of all Node instances in the graph, which is assumed to be ordered correctly. That is, the list starts with a leaf node, which can always send a message. Subsequent nodes in `node_list` should be capable of sending a message when the pending messages of preceding nodes in the list have been sent. The sum-product algorithm then proceeds by passing over the list from beginning to end, sending all pending messages at the nodes it encounters. Then, in reverse order, the algorithm traverses the list again and again sends all pending messages at each node as it is encountered. For this to work, you must initialize pending messages for all the leaf nodes, e.g. `influenza_prior.pending.add(influenza)`, where `influenza_prior` is a Factor node corresponding the the prior, `influenza` is a Variable node and the only connection of `influenza_prior` goes to `influenza`.\n",
    "\n",
    "\n"
   ]
  },
  {
   "cell_type": "code",
   "execution_count": 13,
   "metadata": {
    "collapsed": false,
    "scrolled": false
   },
   "outputs": [
    {
     "name": "stdout",
     "output_type": "stream",
     "text": [
      "\n",
      "\n",
      "Forward Pass\n",
      "f1 -> influenza,    \tmessage: [ 0.95  0.05]\n",
      "f2 -> smokes,    \tmessage: [ 0.8  0.2]\n",
      "sorethroat -> f3,    \tmessage: [ 1.  1.]\n",
      "fever -> f4,    \tmessage: [ 1.  1.]\n",
      "coughing -> f6,    \tmessage: [ 1.  1.]\n",
      "f3 -> influenza,    \tmessage: [ 1.  1.]\n",
      "f4 -> influenza,    \tmessage: [ 1.  1.]\n",
      "influenza -> f5,    \tmessage: [ 0.95  0.05]\n",
      "smokes -> f5,    \tmessage: [ 0.8  0.2]\n",
      "f5 -> bronchitis,    \tmessage: [ 0.821024  0.178976]\n",
      "f6 -> bronchitis,    \tmessage: [ 1.  1.]\n",
      "bronchitis -> f7,    \tmessage: [ 0.821024  0.178976]\n",
      "f7 -> wheezing,    \tmessage: [ 0.89179338  0.10820662]\n",
      "\n",
      "\n",
      "Backward Pass\n",
      "wheezing -> f7,    \tmessage: [ 1.  1.]\n",
      "f7 -> bronchitis,    \tmessage: [ 1.  1.]\n",
      "bronchitis -> f6,    \tmessage: [ 0.821024  0.178976]\n",
      "bronchitis -> f5,    \tmessage: [ 1.  1.]\n",
      "f6 -> coughing,    \tmessage: [ 0.79934752  0.20065248]\n",
      "f5 -> smokes,    \tmessage: [ 1.  1.]\n",
      "f5 -> influenza,    \tmessage: [ 1.  1.]\n",
      "smokes -> f2,    \tmessage: [ 1.  1.]\n",
      "influenza -> f4,    \tmessage: [ 0.95  0.05]\n",
      "influenza -> f1,    \tmessage: [ 1.  1.]\n",
      "influenza -> f3,    \tmessage: [ 0.95  0.05]\n",
      "f4 -> fever,    \tmessage: [ 0.9075  0.0925]\n",
      "f3 -> sorethroat,    \tmessage: [ 0.98405  0.01595]\n"
     ]
    }
   ],
   "source": [
    "# Define tree\n",
    "tree = [f1, f2, ST, F, C, f3, f4, I, SM, f5, f6, B, f7, W]\n",
    "\n",
    "# Define leaves\n",
    "leaves = [f1, f2, ST, F, C]\n",
    "\n",
    "def sum_product(node_list, leaves):\n",
    "    \n",
    "    # Initialization\n",
    "    for node in leaves:\n",
    "        for neighbour in node.neighbours:\n",
    "            node.pending.add(neighbour)\n",
    "            \n",
    "    # forward pass\n",
    "    print('\\n\\nForward Pass')\n",
    "    for i, node in enumerate(node_list):\n",
    "        for neighbour in (set(node.neighbours) & set(node_list[i:])): # send messages\n",
    "            message = node.send_sp_msg(neighbour)\n",
    "            print('%s -> %s,    \\tmessage: %s' % (node.name, neighbour.name, message))\n",
    "            \n",
    "    print('\\n\\nBackward Pass')\n",
    "    # backward pass\n",
    "    reverse_ls = node_list[::-1]\n",
    "    for i, node in enumerate(reverse_ls):\n",
    "        for neighbour in (set(node.neighbours) & set(reverse_ls[i:])):\n",
    "            message = node.send_sp_msg(neighbour)\n",
    "            print('%s -> %s,    \\tmessage: %s' % (node.name, neighbour.name, message))\n",
    "            \n",
    "sum_product(tree, leaves)"
   ]
  },
  {
   "cell_type": "code",
   "execution_count": 14,
   "metadata": {
    "collapsed": false
   },
   "outputs": [
    {
     "name": "stdout",
     "output_type": "stream",
     "text": [
      "(var(influenza), (array([ 0.95,  0.05]), 1.0))\n",
      "(var(smokes), (array([ 0.8,  0.2]), 1.0))\n",
      "(var(sorethroat), (array([ 0.98405,  0.01595]), 1.0))\n",
      "(var(fever), (array([ 0.9075,  0.0925]), 1.0))\n",
      "(var(bronchitis), (array([ 0.821024,  0.178976]), 1.0))\n",
      "(var(coughing), (array([ 0.79934752,  0.20065248]), 1.0000000000000002))\n",
      "(var(wheezing), (array([ 0.89179338,  0.10820662]), 1.0000000000000002))\n"
     ]
    }
   ],
   "source": [
    "# Compute Marginals\n",
    "for _, node in dict_vars.items():\n",
    "    print(node, node.marginal())"
   ]
  },
  {
   "cell_type": "markdown",
   "metadata": {},
   "source": [
    "### 1.7 Observed variables and probabilistic queries (15 points)\n",
    "We will now use the inference engine to answer probabilistic queries. That is, we will set certain variables to observed values, and obtain the marginals over latent variables. We have already provided functions `set_observed` and `set_latent` that manage a member of Variable called `observed_state`. Modify the `Variable.send_msg` and `Variable.marginal` routines that you wrote before, to use `observed_state` so as to get the required marginals when some nodes are observed."
   ]
  },
  {
   "cell_type": "markdown",
   "metadata": {},
   "source": [
    "### 1.8 Sum-product and MAP states (5 points)\n",
    "A maximum a posteriori state (MAP-state) is an assignment of all latent variables that maximizes the probability of latent variables given observed variables:\n",
    "$$\n",
    "\\mathbf{x}_{\\verb+MAP+} = \\arg\\max _{\\mathbf{x}} p(\\mathbf{x} | \\mathbf{y})\n",
    "$$\n",
    "Could we use the sum-product algorithm to obtain a MAP state? If yes, how? If no, why not?\n"
   ]
  },
  {
   "cell_type": "markdown",
   "metadata": {},
   "source": [
    "Yes, it is possible to use the sum-product algorithm to compute $p(\\mathbf{x} | \\mathbf{y})$. We can then evaluate each possible combination of values for $\\mathbf{x}$ and select the one with maximum a posteriori probability. Note that this is highly inefficient, which is why we use the max-sum algorithm."
   ]
  },
  {
   "cell_type": "markdown",
   "metadata": {},
   "source": [
    "## Part 2: The max-sum algorithm\n",
    "Next, we implement the max-sum algorithm as described in section 8.4.5 of Bishop."
   ]
  },
  {
   "cell_type": "markdown",
   "metadata": {},
   "source": [
    "### 2.1 Factor to variable messages (10 points)\n",
    "Implement the function `Factor.send_ms_msg` that sends Factor -> Variable messages for the max-sum algorithm. It is analogous to the `Factor.send_sp_msg` function you implemented before."
   ]
  },
  {
   "cell_type": "markdown",
   "metadata": {},
   "source": [
    "### 2.2 Variable to factor messages (10 points)\n",
    "Implement the `Variable.send_ms_msg` function that sends Variable -> Factor messages for the max-sum algorithm."
   ]
  },
  {
   "cell_type": "markdown",
   "metadata": {},
   "source": [
    "### 2.3 Find a MAP state (10 points)\n",
    "\n",
    "Using the same message passing schedule we used for sum-product, implement the max-sum algorithm. For simplicity, we will ignore issues relating to non-unique maxima. So there is no need to implement backtracking; the MAP state is obtained by a per-node maximization (eq. 8.98 in Bishop). Make sure your algorithm works with both latent and observed variables."
   ]
  },
  {
   "cell_type": "code",
   "execution_count": 30,
   "metadata": {
    "collapsed": false
   },
   "outputs": [
    {
     "name": "stdout",
     "output_type": "stream",
     "text": [
      "\n",
      "Forward Pass\n",
      "f1 -> influenza,    \tmessage: [ 0.95  0.05]\n",
      "f2 -> smokes,    \tmessage: [ 0.8  0.2]\n",
      "sorethroat -> f3,    \tmessage: [ 1.  1.]\n",
      "fever -> f4,    \tmessage: [ 1.  1.]\n",
      "coughing -> f6,    \tmessage: [ 1.  1.]\n",
      "f3 -> influenza,    \tmessage: [ 0.999  0.7  ]\n",
      "f4 -> influenza,    \tmessage: [ 0.95  0.9 ]\n",
      "influenza -> f5,    \tmessage: [ 0.9015975  0.0315   ]\n",
      "smokes -> f5,    \tmessage: [ 0.8  0.2]\n",
      "f5 -> bronchitis,    \tmessage: [ 0.72120587  0.12622365]\n",
      "f6 -> bronchitis,    \tmessage: [ 0.93  0.8 ]\n",
      "bronchitis -> f7,    \tmessage: [  6.70721461e-07   1.00978920e-01]\n",
      "f7 -> wheezing,    \tmessage: [ 0.04039157  0.06058735]\n",
      "\n",
      "Backward Pass\n",
      "wheezing -> f7,    \tmessage: [ 1.  1.]\n",
      "f7 -> bronchitis,    \tmessage: [ 0.999  0.6  ]\n",
      "bronchitis -> f6,    \tmessage: [  7.20484666e-07   7.57341900e-02]\n",
      "bronchitis -> f5,    \tmessage: [  9.29070000e-07   4.80000000e-01]\n",
      "f6 -> coughing,    \tmessage: [ 0.01514684  0.06058735]\n",
      "f5 -> smokes,    \tmessage: [ 0.013608    0.30293676]\n",
      "f5 -> influenza,    \tmessage: [ 0.0672  0.3456]\n",
      "smokes -> f2,    \tmessage: [ 0.013608    0.30293676]\n",
      "influenza -> f4,    \tmessage: [ 0.06377616  0.012096  ]\n",
      "influenza -> f1,    \tmessage: [ 0.06377616  0.217728  ]\n",
      "influenza -> f3,    \tmessage: [ 0.060648  0.015552]\n",
      "f4 -> fever,    \tmessage: [ 0.06058735  0.0108864 ]\n",
      "f3 -> sorethroat,    \tmessage: [ 0.06058735  0.0046656 ]\n",
      "\n",
      "MAP states\n",
      "influenza, MAP: 0,  \tmarginal: [  5.94180081e-05   9.99940582e-01]\n",
      "smokes, MAP: 1,  \tmarginal: [ 0.33283559  0.66716441]\n",
      "sorethroat, MAP: 0,  \tmarginal: [ 0.34311562  0.65688438]\n",
      "fever, MAP: 0,  \tmarginal: [ 0.38281042  0.61718958]\n",
      "bronchitis, MAP: 1,  \tmarginal: [  1.00585847e-10   1.00000000e+00]\n",
      "coughing, MAP: 1,  \tmarginal: [ 0.59911118  0.40088882]\n",
      "wheezing, MAP: 1,  \tmarginal: [ 0.53371681  0.46628319]\n"
     ]
    }
   ],
   "source": [
    "def max_sum(node_list, leaves):\n",
    "    \n",
    "    # Initialization\n",
    "    for node in leaves:\n",
    "        for neighbour in node.neighbours:\n",
    "            node.pending.add(neighbour)\n",
    "            \n",
    "    # forward pass\n",
    "    print('\\nForward Pass')\n",
    "    for i, node in enumerate(node_list):\n",
    "        for neighbour in (set(node.neighbours) & set(node_list[i:])): # send messages\n",
    "            message = node.send_ms_msg(neighbour)\n",
    "            print('%s -> %s,    \\tmessage: %s' % (node.name, neighbour.name, np.exp(message)))\n",
    "            \n",
    "    print('\\nBackward Pass')\n",
    "    # backward pass\n",
    "    reverse_ls = node_list[::-1]\n",
    "    for i, node in enumerate(reverse_ls):\n",
    "        for neighbour in (set(node.neighbours) & set(reverse_ls[i:])):\n",
    "            message = node.send_ms_msg(neighbour)\n",
    "            print('%s -> %s,    \\tmessage: %s' % (node.name, neighbour.name, np.exp(message)))\n",
    "            \n",
    "def get_map_state(node):\n",
    "    return np.argmax(np.sum(node.in_msgs.values(), axis=0) + np.log(node.observed_state))\n",
    "\n",
    "\n",
    "# Define tree\n",
    "tree = [f1, f2, ST, F, C, f3, f4, I, SM, f5, f6, B, f7, W]\n",
    "\n",
    "# Define leaves\n",
    "leaves = [f1, f2, ST, F, C]\n",
    "\n",
    "# Define observed states\n",
    "B.set_observed(1)\n",
    "# I.set_observed(1)\n",
    "\n",
    "# Run algorithm\n",
    "max_sum(tree, leaves)\n",
    "\n",
    "# Compute MAP states\n",
    "print('\\nMAP states')\n",
    "for _, node in dict_vars.items():\n",
    "    print('%s, MAP: %d,  \\tmarginal: %s' % (node.name, get_map_state(node), node.marginal()[0]))"
   ]
  },
  {
   "cell_type": "markdown",
   "metadata": {},
   "source": [
    "## Part 3: Image Denoising and Loopy BP\n",
    "\n",
    "Next, we will use a loopy version of max-sum to perform denoising on a binary image. The model itself is discussed in Bishop 8.3.3, but we will use loopy max-sum instead of Iterative Conditional Modes as Bishop does.\n",
    "\n",
    "The following code creates some toy data: `im` is a quite large binary image and `test_im` is a smaller synthetic binary image. Noisy versions are also provided."
   ]
  },
  {
   "cell_type": "code",
   "execution_count": 17,
   "metadata": {
    "collapsed": false
   },
   "outputs": [
    {
     "data": {
      "text/plain": [
       "<matplotlib.image.AxesImage at 0x7e39978>"
      ]
     },
     "execution_count": 17,
     "metadata": {},
     "output_type": "execute_result"
    },
    {
     "data": {
      "image/png": "[encoded data removed]",
      "text/plain": [
       "<matplotlib.figure.Figure at 0x7890128>"
      ]
     },
     "metadata": {},
     "output_type": "display_data"
    },
    {
     "data": {
      "image/png": "[encoded data removed]",
      "text/plain": [
       "<matplotlib.figure.Figure at 0x2b412b0>"
      ]
     },
     "metadata": {},
     "output_type": "display_data"
    },
    {
     "data": {
      "image/png": "[encoded data removed]",
      "text/plain": [
       "<matplotlib.figure.Figure at 0x7982278>"
      ]
     },
     "metadata": {},
     "output_type": "display_data"
    },
    {
     "data": {
      "image/png": "[encoded data removed]",
      "text/plain": [
       "<matplotlib.figure.Figure at 0x7c34978>"
      ]
     },
     "metadata": {},
     "output_type": "display_data"
    }
   ],
   "source": [
    "from pylab import imread, gray\n",
    "# Load the image and binarize\n",
    "im = np.mean(imread('dalmatian1.png'), axis=2) > 0.5\n",
    "imshow(im)\n",
    "gray()\n",
    "\n",
    "# Add some noise\n",
    "noise = np.random.rand(*im.shape) > 0.9\n",
    "noise_im = np.logical_xor(noise, im)\n",
    "figure()\n",
    "imshow(noise_im)\n",
    "\n",
    "test_im = np.zeros((10,10))\n",
    "#test_im[5:8, 3:8] = 1.0\n",
    "#test_im[5,5] = 1.0\n",
    "figure()\n",
    "imshow(test_im)\n",
    "\n",
    "# Add some noise\n",
    "noise = np.random.rand(*test_im.shape) > 0.9\n",
    "noise_test_im = np.logical_xor(noise, test_im)\n",
    "figure()\n",
    "imshow(noise_test_im)"
   ]
  },
  {
   "cell_type": "markdown",
   "metadata": {},
   "source": [
    "### 3.1 Construct factor graph (10 points)\n",
    "Convert the Markov Random Field (Bishop, fig. 8.31) to a factor graph and instantiate it."
   ]
  },
  {
   "cell_type": "code",
   "execution_count": 6,
   "metadata": {
    "collapsed": true
   },
   "outputs": [],
   "source": [
    "# YOUR ANSWER HERE"
   ]
  },
  {
   "cell_type": "markdown",
   "metadata": {},
   "source": [
    "### 3.2 Loopy max-sum (10 points)\n",
    "Implement the loopy max-sum algorithm, by passing messages from randomly chosen nodes iteratively until no more pending messages are created or a maximum number of iterations is reached. \n",
    "\n",
    "Think of a good way to initialize the messages in the graph."
   ]
  },
  {
   "cell_type": "code",
   "execution_count": 7,
   "metadata": {
    "collapsed": true
   },
   "outputs": [],
   "source": [
    "# YOUR ANSWER hErE"
   ]
  }
 ],
 "metadata": {
  "anaconda-cloud": {},
  "kernelspec": {
   "display_name": "Python [conda env:py27]",
   "language": "python",
   "name": "conda-env-py27-py"
  },
  "language_info": {
   "codemirror_mode": {
    "name": "ipython",
    "version": 2
   },
   "file_extension": ".py",
   "mimetype": "text/x-python",
   "name": "python",
   "nbconvert_exporter": "python",
   "pygments_lexer": "ipython2",
   "version": "2.7.13"
  }
 },
 "nbformat": 4,
 "nbformat_minor": 0
}
